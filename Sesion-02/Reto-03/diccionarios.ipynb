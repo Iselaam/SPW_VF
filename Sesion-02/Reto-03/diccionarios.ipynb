{
  "cells": [
    {
      "cell_type": "markdown",
      "metadata": {
        "id": "crahBrSYZL3O"
      },
      "source": [
        "## Reto 3: Creando y accesando diccionarios\n",
        "\n",
        "### 1. Objetivos:\n",
        "    - Entender cómo crear diccionarios y cómo acceder a ellos\n",
        "\n",
        "---\n",
        "    \n",
        "### 2. Desarrollo:"
      ]
    },
    {
      "cell_type": "markdown",
      "metadata": {
        "id": "bgfdoe94ZL3R"
      },
      "source": [
        "Debajo hemos definido un diccionario. Este diccionario se encuentra incompleto, aunque no lo parezca:"
      ]
    },
    {
      "cell_type": "code",
      "execution_count": 2,
      "metadata": {
        "id": "2nxABFbWZL3R"
      },
      "outputs": [],
      "source": [
        "ventas_mensuales = {\n",
        "    \"fecha_de_corte\": \"01/05/2020\",\n",
        "    \"unidad\": \"Aragón\",\n",
        "    \"ventas_pasteleria\": 59,\n",
        "    \"ventas_panaderia\": 295,\n",
        "    \"ganancias_pasteleria\": 5055,\n",
        "    \"ganancias_panaderia\": 7105,\n",
        "    \"gastos_mensuales_totales\": 2004,\n",
        "    \"analista\": \"Isela Martin\"\n",
        "}\n"
      ]
    },
    {
      "cell_type": "markdown",
      "metadata": {
        "id": "0Z7oaVXxZL3S"
      },
      "source": [
        "Debajo tenemos algunos procedimientos que han sido realizados utilizando este diccionario. Como puedes ver, algunos de los accesos que se están haciendo van a fallar porque el diccionario `ventas_mensuales` no está completo:"
      ]
    },
    {
      "cell_type": "code",
      "execution_count": 5,
      "metadata": {
        "id": "qwAg-owIZL3S",
        "outputId": "51982e88-bfbc-4128-f2b3-9e1769c6ae8f",
        "colab": {
          "base_uri": "https://localhost:8080/"
        }
      },
      "outputs": [
        {
          "output_type": "stream",
          "name": "stdout",
          "text": [
            "==Resumen de ventas mensuales de la unidad Aragón==\n",
            "Fecha de corte: 01/05/2020\n",
            "  - Ventas totales de insumos: 354\n",
            "  - Ganancias totales: 12160\n",
            "  - Ganancias netas: 10156\n",
            "\n",
            "\n",
            "(Información recabada por: Isela Martin)\n"
          ]
        }
      ],
      "source": [
        "ventas_totales_de_insumos = ventas_mensuales[\"ventas_pasteleria\"] + ventas_mensuales[\"ventas_panaderia\"]\n",
        "ganancias_totales = ventas_mensuales[\"ganancias_pasteleria\"] + ventas_mensuales[\"ganancias_panaderia\"]\n",
        "ganancias_netas = ganancias_totales - ventas_mensuales[\"gastos_mensuales_totales\"]\n",
        "\n",
        "print(f'==Resumen de ventas mensuales de la unidad {ventas_mensuales[\"unidad\"]}==')\n",
        "print(f'Fecha de corte: {ventas_mensuales[\"fecha_de_corte\"]}')\n",
        "print(f'  - Ventas totales de insumos: {ventas_totales_de_insumos}')\n",
        "print(f'  - Ganancias totales: {ganancias_totales}')\n",
        "print(f'  - Ganancias netas: {ganancias_netas}')\n",
        "print(f'\\n')\n",
        "print(f'(Información recabada por: {ventas_mensuales[\"analista\"]})')"
      ]
    },
    {
      "cell_type": "markdown",
      "metadata": {
        "id": "JB13qOeHZL3T"
      },
      "source": [
        "Completa el diccionario `ventas_mensuales` para que el código que imprime el resumen de las ventas funcione correctamente."
      ]
    },
    {
      "cell_type": "markdown",
      "metadata": {
        "id": "9IwKjT5tZL3T"
      },
      "source": [
        "<details><summary>Solución</summary>\n",
        "\n",
        "```python\n",
        "# Los valores podrían ser distintos. Espero...\n",
        "    \n",
        "ventas_mensuales = {\n",
        "    \"fecha_de_corte\": \"01/05/2020\",\n",
        "    \"unidad\": \"Aragón\",\n",
        "    \"ventas_pasteleria\": 245,\n",
        "    \"ventas_panaderia\": 123,\n",
        "    \"ganancias_pasteleria\": 20345,\n",
        "    \"ganancias_panaderia\": 5689,\n",
        "    \"gastos_mensuales_totales\": 7345,\n",
        "    \"analista\": \"Fernando Alameda\"\n",
        "}\n",
        "```\n",
        "    \n",
        "</details>"
      ]
    },
    {
      "cell_type": "code",
      "execution_count": null,
      "metadata": {
        "id": "ya710I6FZL3T"
      },
      "outputs": [],
      "source": []
    }
  ],
  "metadata": {
    "kernelspec": {
      "display_name": "Python (data_science)",
      "language": "python",
      "name": "data_science"
    },
    "language_info": {
      "codemirror_mode": {
        "name": "ipython",
        "version": 3
      },
      "file_extension": ".py",
      "mimetype": "text/x-python",
      "name": "python",
      "nbconvert_exporter": "python",
      "pygments_lexer": "ipython3",
      "version": "3.8.5"
    },
    "colab": {
      "provenance": []
    }
  },
  "nbformat": 4,
  "nbformat_minor": 0
}